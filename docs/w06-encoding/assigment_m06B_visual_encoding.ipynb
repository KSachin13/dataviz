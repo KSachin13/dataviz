{
  "cells": [
    {
      "cell_type": "markdown",
      "metadata": {
        "id": "g9DPSY-p8mrr"
      },
      "source": [
        "# Homework 6B - Visual Encoding\n",
        "In this assignment, you will explore how to encode different data features to visual properties using the movies dataset located in `Datasets/movies.json`.\n",
        "\n",
        "We will start with simpler visualizations and then move to more complex (and potentially cluttered) visualizations. Finally, you will create a focused visualization that uses only a few selected encodings.\n",
        "\n",
        "## Instructions\n",
        "\n",
        "The assignment is divided into three parts:\n",
        "\n",
        "1. **Project Setup**:  \n",
        "\n",
        "   - Set up your Python and Jupyter (or VSCode) environment.  \n",
        "\n",
        "   - Clone or download the repository provided in class (refer to the class notes).\n",
        "\n",
        "2. **Simple Visualizations:** Create basic visualizations using one or two encodings.\n",
        "\n",
        "3. **Cluttered Visualization:** Create a visualization that encodes many features simultaneously.\n",
        "\n",
        "4. **Focused Visualization:** Create one or more visualizations using a few chosen encodings, and discuss your design choices.\n",
        "\n",
        "5. **Documentation**:  \n",
        "\n",
        "   - Comment your code and add markdown explanations for each part of your analysis.\n",
        "\n",
        "6. **Submission**:  \n",
        "\n",
        "   - Save your notebook and export as either PDF or HTML. If the visualization is not shown in the html, submit a separated version with altair html. Refer to: https://altair-viz.github.io/getting_started/starting.html#publishing-your-visualization (you can use the `chart.save('chart_file.html')` method).\n",
        "   - Submit to Canvas.\n",
        "\n",
        "\n",
        "\n",
        "You are free to use any libraries you prefer for visualization, but we recommend using `matplotlib`, `seaborn`, and/or `altair` for this assignment.\n",
        "\n",
        "   \n",
        "\n",
        "Happy coding and visualizing!"
      ]
    },
    {
      "cell_type": "code",
      "execution_count": null,
      "metadata": {
        "id": "UQGxvQcJ8mrt"
      },
      "outputs": [],
      "source": [
        "import pandas as pd\n",
        "import matplotlib.pyplot as plt\n",
        "import seaborn as sns\n",
        "import altair as alt\n",
        "\n",
        "# If you're running in a notebook environment that limits rows for interactive charts:\n",
        "alt.data_transformers.disable_max_rows()\n",
        "\n",
        "# Read the dataset\n",
        "df = pd.read_json(\"/content/movies.json\")\n",
        "df.head()\n",
        "\n",
        "# Let's create a new column for the ratio of US Gross to Production Budget\n",
        "df['US Gross to Production Budget'] = df['US Gross'] / df['Production Budget']\n"
      ]
    },
    {
      "cell_type": "markdown",
      "metadata": {
        "id": "FM5dVwiM8mru"
      },
      "source": [
        "## Part 0: Simple Visualizations\n",
        "\n",
        "\n",
        "\n",
        "In this section, you will build simple plots that use minimal visual encodings. This will help you get comfortable with basic mappings before adding complexity.\n",
        "\n",
        "\n",
        "\n",
        "### Task 0.1: Simple Scatterplot\n",
        "\n",
        "Create a basic scatterplot that maps:\n",
        "\n",
        "- **x-axis:** `Production Budget`\n",
        "\n",
        "- **y-axis:** `US Gross`\n",
        "\n",
        "\n",
        "\n",
        "*Hint:* You can use:\n",
        "\n",
        "- `plt.scatter()` from `matplotlib`\n",
        "\n",
        "- `sns.scatterplot()` from `seaborn`\n",
        "\n",
        "- `alt.Chart()` from `altair` with `mark_point()`\n",
        "\n"
      ]
    },
    {
      "cell_type": "code",
      "execution_count": null,
      "metadata": {
        "id": "84xjPLvm8mru"
      },
      "outputs": [],
      "source": [
        "# Fill Code Here\n"
      ]
    },
    {
      "cell_type": "markdown",
      "metadata": {
        "id": "5vfl1hP18mru"
      },
      "source": [
        "### Task 0.2: Simple Bar Plot\n",
        "\n",
        "Now, create a bar plot that shows the average `IMDB Rating` for each `Major Genre`.\n",
        "\n",
        "\n",
        "\n",
        "*Hint:* You can use:\n",
        "\n",
        "- `plt.bar()` from `matplotlib`\n",
        "\n",
        "- `sns.barplot()` from `seaborn`\n",
        "\n",
        "- `alt.Chart()` from `altair` with `mark_bar()`\n",
        "\n"
      ]
    },
    {
      "cell_type": "code",
      "execution_count": null,
      "metadata": {
        "id": "G-zUl0US8mru"
      },
      "outputs": [],
      "source": [
        "# Fill Code Here\n"
      ]
    },
    {
      "cell_type": "markdown",
      "metadata": {
        "id": "Ar2ee74c8mru"
      },
      "source": [
        "### Task 0.3: Another Simple Scatterplot\n",
        "\n",
        "Create a basic scatterplot that maps:\n",
        "\n",
        "- **x-axis:** `IMDB Rating`\n",
        "\n",
        "- **y-axis:** `US Gross to Production Budget`\n",
        "\n",
        "\n",
        "\n",
        "*Important*: `US Gross to Production Budget` is a ratio. Thus, you should use the logarithmic scale for the y-axis to better visualize the data.\n",
        "\n",
        "\n",
        "\n",
        "*Hint:* You can use:\n",
        "\n",
        "- `plt.yscale('log')` from `matplotlib` (also works with `seaborn`)\n",
        "\n",
        "- `y=alt.Y('...').scale(type=\"log\")` from `altair`\n",
        "\n"
      ]
    },
    {
      "cell_type": "code",
      "execution_count": null,
      "metadata": {
        "id": "shBOHz-s8mru"
      },
      "outputs": [],
      "source": [
        "# Fill Code Here\n"
      ]
    },
    {
      "cell_type": "markdown",
      "metadata": {
        "id": "fgr1BHal8mru"
      },
      "source": [
        "### Task 0.4 : Another Simple Bar Plot\n",
        "\n",
        "Create a bar plot that shows the average `US Gross to Production Budget` for each `Major Genre`.\n",
        "\n",
        "\n",
        "\n",
        "Remember to use the logarithmic scale for the y-axis to better visualize the data.\n",
        "\n",
        "\n",
        "\n",
        "What are the insights you can draw from this plot?"
      ]
    },
    {
      "cell_type": "code",
      "execution_count": null,
      "metadata": {
        "id": "BGombiHA8mru"
      },
      "outputs": [],
      "source": [
        "# Fill Code Here\n",
        "\n"
      ]
    },
    {
      "cell_type": "markdown",
      "metadata": {
        "id": "k9wCnC7f8mrv"
      },
      "source": [
        "Your comments and insights here:\n",
        "\n",
        "Any interesting observations from any of the plots you created so far?"
      ]
    },
    {
      "cell_type": "markdown",
      "metadata": {
        "id": "k3Rsm17C8mrv"
      },
      "source": [
        "## Part 1: Intermediate Visual Encodings\n",
        "\n",
        "\n",
        "\n",
        "Now that you have built simple plots, let's gradually add more visual encodings.\n",
        "\n",
        "\n",
        "\n",
        "### Task 1.1: Adding Color\n",
        "\n",
        "Extend one of the scatterplots from Tasks 0.1 or 0.3 by encoding:\n",
        "\n",
        "- **Color** to `MPAA Rating`\n",
        "\n",
        "\n",
        "\n",
        "*Hint:* You can use the `hue` parameter in `seaborn` or the `color` parameter in `matplotlib`.\n",
        "\n",
        "*Note:* You can also use `alt.Chart()` with `encode(color='MPAA Rating')` for color encoding.\n",
        "\n",
        "\n",
        "\n",
        "Complete the code cell below."
      ]
    },
    {
      "cell_type": "code",
      "execution_count": null,
      "metadata": {
        "id": "5oGhU1QQ8mrv"
      },
      "outputs": [],
      "source": [
        "# Fill Code Here\n"
      ]
    },
    {
      "cell_type": "markdown",
      "metadata": {
        "id": "MXuOnrbj8mrv"
      },
      "source": [
        "### Task 1.2: Adding Size\n",
        "\n",
        "Further extend the scatterplot by encoding another feature:\n",
        "\n",
        "- **Size** to e.g. `Running Time min`, `IMDB Votes`\n",
        "\n",
        "\n",
        "\n",
        "This adds another dimension to the plot. Fill in the code below."
      ]
    },
    {
      "cell_type": "code",
      "execution_count": null,
      "metadata": {
        "id": "2z7HJL4C8mrv"
      },
      "outputs": [],
      "source": [
        "# Fill Code Here\n"
      ]
    },
    {
      "cell_type": "markdown",
      "metadata": {
        "id": "zc-LaFni8mrv"
      },
      "source": [
        "## Part 2: Cluttered Visualization\n",
        "\n",
        "The next task is to create a visualization that encodes as many features as possible. Try mapping:\n",
        "\n",
        "\n",
        "\n",
        "- **Color**\n",
        "\n",
        "- **Size**\n",
        "\n",
        "- **Shape/Marker**\n",
        "\n",
        "- **Position**\n",
        "\n",
        "- **Transparency (alpha)**\n",
        "\n",
        "- **Any other visual property you can think of?**\n",
        "\n",
        "\n",
        "\n",
        "*Note:* The goal is to demonstrate how quickly a visualization can become cluttered when too many encodings are used.\n",
        "\n",
        "You are free to choose any combination of the above encodings. Do your worst!\n",
        "\n",
        "Fill in the code below with your own choices for mappings."
      ]
    },
    {
      "cell_type": "code",
      "execution_count": null,
      "metadata": {
        "id": "K4v21OxL8mrv"
      },
      "outputs": [],
      "source": [
        "# Fill Code Here\n"
      ]
    },
    {
      "cell_type": "markdown",
      "metadata": {
        "id": "hh_7aIUM8mrv"
      },
      "source": [
        "## Part 3: Focused Visualization\n",
        "\n",
        "\n",
        "\n",
        "For the final part, create more visualizations that use only a few well-chosen encodings in each. For example, you might decide to just use 3 encodings (2 positions + color, or two positions + size, or color + size + shape).\n",
        "\n",
        "- Map **color**\n",
        "\n",
        "- Map **size**\n",
        "\n",
        "- Use **position (X,Y)**\n",
        "\n",
        "\n",
        "\n",
        "Create a few different visualizations maintaining x and y positions, but changing the color, size, or shape encodings, to showcase different aspects of the data.\n",
        "\n",
        "\n",
        "\n",
        "You can also use redundant encodings, e.g., using both color and shape to represent the same feature.\n",
        "\n",
        "This will help you focus on the most important aspects of the data without overwhelming the viewer with too much information.\n",
        "\n",
        "\n",
        "\n",
        "After creating the visualization, write a brief discussion (just a few sentences) in the markdown cell that follows. Explain:\n",
        "\n",
        "- Why you selected these specific encodings.\n",
        "\n",
        "- How these choices improve interpretability.\n",
        "\n",
        "- Any trade-offs involved in reducing the number of encoded features."
      ]
    },
    {
      "cell_type": "code",
      "execution_count": null,
      "metadata": {
        "id": "O7WcJVGF8mrv"
      },
      "outputs": [],
      "source": [
        "# Your code here\n"
      ]
    },
    {
      "cell_type": "markdown",
      "metadata": {
        "id": "grkirv-e8mrv"
      },
      "source": [
        "### Discussion\n",
        "\n",
        "\n",
        "\n",
        "Please write your reflections here:\n",
        "\n",
        "\n",
        "\n",
        "- Why did you choose the specific encodings for the focused visualization?\n",
        "\n",
        "- How do the selected visual properties (color, size, position) help in understanding the data better?\n",
        "\n",
        "- What improvements in clarity do you observe compared to the cluttered visualization?\n",
        "\n",
        "- What trade-offs do you notice when reducing the number of encoded features?\n",
        "\n",
        "\n",
        "\n",
        "Use this cell to provide a brief explanation of your design decisions."
      ]
    }
  ],
  "metadata": {
    "language_info": {
      "name": "python"
    },
    "colab": {
      "provenance": []
    },
    "kernelspec": {
      "name": "python3",
      "display_name": "Python 3"
    }
  },
  "nbformat": 4,
  "nbformat_minor": 0
}